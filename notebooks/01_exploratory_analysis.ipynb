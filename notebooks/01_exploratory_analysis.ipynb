{
 "cells": [
  {
   "cell_type": "markdown",
   "metadata": {},
   "source": [
    "## Important Note  \n",
    "Before you start the development, we strongly recommend you look at the rubric in your classroom, against which the human Mentor will review your submission. Your submission must satisfy all rubric criteria to pass the project; otherwise, the Mentor may ask you to re-submit. The rubric is available on the **Project Rubric** page towards the end of the current lessons. \n",
    "\n",
    "By carefully following the tips provided in this notebook, you can meet all rubric criteria and successfully complete the project.  If needed, you can use **Google Translate** to translate the tips for better understanding. Once you have met all rubric requirements, be sure to:  \n",
    "- Remove all instructional tips from the current notebook, including the current Tip.  \n",
    "- Replace placeholder text, such as `yourname`, with your actual details.  \n",
    "\n",
    "This will ensure your submission is polished and ready for evaluation.\n",
    "\n",
    "**Delete this cell, once you have met all rubric requirements**."
   ]
  },
  {
   "cell_type": "markdown",
   "metadata": {},
   "source": [
    "# Part I - Ford GoBike System Exploration\n",
    "#### by Ammar Yasser"
   ]
  },
  {
   "cell_type": "markdown",
   "metadata": {},
   "source": [
    "## Introduction\n",
    "The Ford GoBike System dataset contains bike trip data from the San Francisco Bay Area. It includes information on trip duration, start and end locations, and user type. This data can help explore bike usage patterns in the city."
   ]
  },
  {
   "cell_type": "markdown",
   "metadata": {},
   "source": [
    "## Preliminary Wrangling"
   ]
  },
  {
   "cell_type": "code",
   "execution_count": 179,
   "metadata": {},
   "outputs": [],
   "source": [
    "# Importing essential libraries\n",
    "import numpy as np\n",
    "import pandas as pd\n",
    "import matplotlib.pyplot as plt\n",
    "import seaborn as sns"
   ]
  },
  {
   "cell_type": "markdown",
   "metadata": {},
   "source": [
    "#### Loading the Ford GoBike dataset to explore bike usage patterns and trip trends."
   ]
  },
  {
   "cell_type": "code",
   "execution_count": 180,
   "metadata": {},
   "outputs": [],
   "source": [
    "df = pd.read_csv('201902-fordgobike-tripdata.csv')"
   ]
  },
  {
   "cell_type": "code",
   "execution_count": 181,
   "metadata": {},
   "outputs": [
    {
     "data": {
      "text/html": [
       "<div>\n",
       "<style scoped>\n",
       "    .dataframe tbody tr th:only-of-type {\n",
       "        vertical-align: middle;\n",
       "    }\n",
       "\n",
       "    .dataframe tbody tr th {\n",
       "        vertical-align: top;\n",
       "    }\n",
       "\n",
       "    .dataframe thead th {\n",
       "        text-align: right;\n",
       "    }\n",
       "</style>\n",
       "<table border=\"1\" class=\"dataframe\">\n",
       "  <thead>\n",
       "    <tr style=\"text-align: right;\">\n",
       "      <th></th>\n",
       "      <th>duration_sec</th>\n",
       "      <th>start_time</th>\n",
       "      <th>end_time</th>\n",
       "      <th>start_station_id</th>\n",
       "      <th>start_station_name</th>\n",
       "      <th>start_station_latitude</th>\n",
       "      <th>start_station_longitude</th>\n",
       "      <th>end_station_id</th>\n",
       "      <th>end_station_name</th>\n",
       "      <th>end_station_latitude</th>\n",
       "      <th>end_station_longitude</th>\n",
       "      <th>bike_id</th>\n",
       "      <th>user_type</th>\n",
       "      <th>member_birth_year</th>\n",
       "      <th>member_gender</th>\n",
       "      <th>bike_share_for_all_trip</th>\n",
       "    </tr>\n",
       "  </thead>\n",
       "  <tbody>\n",
       "    <tr>\n",
       "      <th>0</th>\n",
       "      <td>52185</td>\n",
       "      <td>2019-02-28 17:32:10.1450</td>\n",
       "      <td>2019-03-01 08:01:55.9750</td>\n",
       "      <td>21.0</td>\n",
       "      <td>Montgomery St BART Station (Market St at 2nd St)</td>\n",
       "      <td>37.789625</td>\n",
       "      <td>-122.400811</td>\n",
       "      <td>13.0</td>\n",
       "      <td>Commercial St at Montgomery St</td>\n",
       "      <td>37.794231</td>\n",
       "      <td>-122.402923</td>\n",
       "      <td>4902</td>\n",
       "      <td>Customer</td>\n",
       "      <td>1984.0</td>\n",
       "      <td>Male</td>\n",
       "      <td>No</td>\n",
       "    </tr>\n",
       "    <tr>\n",
       "      <th>1</th>\n",
       "      <td>42521</td>\n",
       "      <td>2019-02-28 18:53:21.7890</td>\n",
       "      <td>2019-03-01 06:42:03.0560</td>\n",
       "      <td>23.0</td>\n",
       "      <td>The Embarcadero at Steuart St</td>\n",
       "      <td>37.791464</td>\n",
       "      <td>-122.391034</td>\n",
       "      <td>81.0</td>\n",
       "      <td>Berry St at 4th St</td>\n",
       "      <td>37.775880</td>\n",
       "      <td>-122.393170</td>\n",
       "      <td>2535</td>\n",
       "      <td>Customer</td>\n",
       "      <td>NaN</td>\n",
       "      <td>NaN</td>\n",
       "      <td>No</td>\n",
       "    </tr>\n",
       "    <tr>\n",
       "      <th>2</th>\n",
       "      <td>61854</td>\n",
       "      <td>2019-02-28 12:13:13.2180</td>\n",
       "      <td>2019-03-01 05:24:08.1460</td>\n",
       "      <td>86.0</td>\n",
       "      <td>Market St at Dolores St</td>\n",
       "      <td>37.769305</td>\n",
       "      <td>-122.426826</td>\n",
       "      <td>3.0</td>\n",
       "      <td>Powell St BART Station (Market St at 4th St)</td>\n",
       "      <td>37.786375</td>\n",
       "      <td>-122.404904</td>\n",
       "      <td>5905</td>\n",
       "      <td>Customer</td>\n",
       "      <td>1972.0</td>\n",
       "      <td>Male</td>\n",
       "      <td>No</td>\n",
       "    </tr>\n",
       "    <tr>\n",
       "      <th>3</th>\n",
       "      <td>36490</td>\n",
       "      <td>2019-02-28 17:54:26.0100</td>\n",
       "      <td>2019-03-01 04:02:36.8420</td>\n",
       "      <td>375.0</td>\n",
       "      <td>Grove St at Masonic Ave</td>\n",
       "      <td>37.774836</td>\n",
       "      <td>-122.446546</td>\n",
       "      <td>70.0</td>\n",
       "      <td>Central Ave at Fell St</td>\n",
       "      <td>37.773311</td>\n",
       "      <td>-122.444293</td>\n",
       "      <td>6638</td>\n",
       "      <td>Subscriber</td>\n",
       "      <td>1989.0</td>\n",
       "      <td>Other</td>\n",
       "      <td>No</td>\n",
       "    </tr>\n",
       "    <tr>\n",
       "      <th>4</th>\n",
       "      <td>1585</td>\n",
       "      <td>2019-02-28 23:54:18.5490</td>\n",
       "      <td>2019-03-01 00:20:44.0740</td>\n",
       "      <td>7.0</td>\n",
       "      <td>Frank H Ogawa Plaza</td>\n",
       "      <td>37.804562</td>\n",
       "      <td>-122.271738</td>\n",
       "      <td>222.0</td>\n",
       "      <td>10th Ave at E 15th St</td>\n",
       "      <td>37.792714</td>\n",
       "      <td>-122.248780</td>\n",
       "      <td>4898</td>\n",
       "      <td>Subscriber</td>\n",
       "      <td>1974.0</td>\n",
       "      <td>Male</td>\n",
       "      <td>Yes</td>\n",
       "    </tr>\n",
       "  </tbody>\n",
       "</table>\n",
       "</div>"
      ],
      "text/plain": [
       "   duration_sec                start_time                  end_time  \\\n",
       "0         52185  2019-02-28 17:32:10.1450  2019-03-01 08:01:55.9750   \n",
       "1         42521  2019-02-28 18:53:21.7890  2019-03-01 06:42:03.0560   \n",
       "2         61854  2019-02-28 12:13:13.2180  2019-03-01 05:24:08.1460   \n",
       "3         36490  2019-02-28 17:54:26.0100  2019-03-01 04:02:36.8420   \n",
       "4          1585  2019-02-28 23:54:18.5490  2019-03-01 00:20:44.0740   \n",
       "\n",
       "   start_station_id                                start_station_name  \\\n",
       "0              21.0  Montgomery St BART Station (Market St at 2nd St)   \n",
       "1              23.0                     The Embarcadero at Steuart St   \n",
       "2              86.0                           Market St at Dolores St   \n",
       "3             375.0                           Grove St at Masonic Ave   \n",
       "4               7.0                               Frank H Ogawa Plaza   \n",
       "\n",
       "   start_station_latitude  start_station_longitude  end_station_id  \\\n",
       "0               37.789625              -122.400811            13.0   \n",
       "1               37.791464              -122.391034            81.0   \n",
       "2               37.769305              -122.426826             3.0   \n",
       "3               37.774836              -122.446546            70.0   \n",
       "4               37.804562              -122.271738           222.0   \n",
       "\n",
       "                               end_station_name  end_station_latitude  \\\n",
       "0                Commercial St at Montgomery St             37.794231   \n",
       "1                            Berry St at 4th St             37.775880   \n",
       "2  Powell St BART Station (Market St at 4th St)             37.786375   \n",
       "3                        Central Ave at Fell St             37.773311   \n",
       "4                         10th Ave at E 15th St             37.792714   \n",
       "\n",
       "   end_station_longitude  bike_id   user_type  member_birth_year  \\\n",
       "0            -122.402923     4902    Customer             1984.0   \n",
       "1            -122.393170     2535    Customer                NaN   \n",
       "2            -122.404904     5905    Customer             1972.0   \n",
       "3            -122.444293     6638  Subscriber             1989.0   \n",
       "4            -122.248780     4898  Subscriber             1974.0   \n",
       "\n",
       "  member_gender bike_share_for_all_trip  \n",
       "0          Male                      No  \n",
       "1           NaN                      No  \n",
       "2          Male                      No  \n",
       "3         Other                      No  \n",
       "4          Male                     Yes  "
      ]
     },
     "execution_count": 181,
     "metadata": {},
     "output_type": "execute_result"
    }
   ],
   "source": [
    "df.head()"
   ]
  },
  {
   "cell_type": "code",
   "execution_count": 182,
   "metadata": {},
   "outputs": [
    {
     "name": "stdout",
     "output_type": "stream",
     "text": [
      "<class 'pandas.core.frame.DataFrame'>\n",
      "RangeIndex: 183412 entries, 0 to 183411\n",
      "Data columns (total 16 columns):\n",
      " #   Column                   Non-Null Count   Dtype  \n",
      "---  ------                   --------------   -----  \n",
      " 0   duration_sec             183412 non-null  int64  \n",
      " 1   start_time               183412 non-null  object \n",
      " 2   end_time                 183412 non-null  object \n",
      " 3   start_station_id         183215 non-null  float64\n",
      " 4   start_station_name       183215 non-null  object \n",
      " 5   start_station_latitude   183412 non-null  float64\n",
      " 6   start_station_longitude  183412 non-null  float64\n",
      " 7   end_station_id           183215 non-null  float64\n",
      " 8   end_station_name         183215 non-null  object \n",
      " 9   end_station_latitude     183412 non-null  float64\n",
      " 10  end_station_longitude    183412 non-null  float64\n",
      " 11  bike_id                  183412 non-null  int64  \n",
      " 12  user_type                183412 non-null  object \n",
      " 13  member_birth_year        175147 non-null  float64\n",
      " 14  member_gender            175147 non-null  object \n",
      " 15  bike_share_for_all_trip  183412 non-null  object \n",
      "dtypes: float64(7), int64(2), object(7)\n",
      "memory usage: 22.4+ MB\n"
     ]
    }
   ],
   "source": [
    "df.info()"
   ]
  },
  {
   "cell_type": "code",
   "execution_count": 183,
   "metadata": {},
   "outputs": [
    {
     "data": {
      "text/plain": [
       "duration_sec                 int64\n",
       "start_time                  object\n",
       "end_time                    object\n",
       "start_station_id           float64\n",
       "start_station_name          object\n",
       "start_station_latitude     float64\n",
       "start_station_longitude    float64\n",
       "end_station_id             float64\n",
       "end_station_name            object\n",
       "end_station_latitude       float64\n",
       "end_station_longitude      float64\n",
       "bike_id                      int64\n",
       "user_type                   object\n",
       "member_birth_year          float64\n",
       "member_gender               object\n",
       "bike_share_for_all_trip     object\n",
       "dtype: object"
      ]
     },
     "execution_count": 183,
     "metadata": {},
     "output_type": "execute_result"
    }
   ],
   "source": [
    "df.dtypes"
   ]
  },
  {
   "cell_type": "markdown",
   "metadata": {},
   "source": [
    "### Converting columns' data types"
   ]
  },
  {
   "cell_type": "markdown",
   "metadata": {},
   "source": [
    "> Define the columns that need to be converted and their types\n"
   ]
  },
  {
   "cell_type": "code",
   "execution_count": 184,
   "metadata": {},
   "outputs": [],
   "source": [
    "conversion_dict = {\n",
    "    'start_time': 'datetime',\n",
    "    'end_time': 'datetime',\n",
    "    'start_station_id': 'int',\n",
    "    'end_station_id': 'int',\n",
    "    'member_birth_year': 'int',\n",
    "    'user_type': 'category',\n",
    "    'member_gender': 'category',\n",
    "    'bike_share_for_all_trip': 'bool'\n",
    "}"
   ]
  },
  {
   "cell_type": "markdown",
   "metadata": {},
   "source": [
    "> Loop through the dictionary and convert each column\n"
   ]
  },
  {
   "cell_type": "code",
   "execution_count": 185,
   "metadata": {},
   "outputs": [],
   "source": [
    "for column, dtype in conversion_dict.items():\n",
    "    if dtype == 'datetime':\n",
    "        df[column] = pd.to_datetime(df[column], errors='coerce')\n",
    "    elif dtype == 'category':\n",
    "        df[column] = df[column].astype('category')\n",
    "    elif dtype == 'int64':\n",
    "        df[column] = df[column].astype('int64')\n"
   ]
  },
  {
   "cell_type": "code",
   "execution_count": 186,
   "metadata": {},
   "outputs": [],
   "source": [
    "df['member_gender'] = df['member_gender'].astype(str)"
   ]
  },
  {
   "cell_type": "code",
   "execution_count": 187,
   "metadata": {},
   "outputs": [
    {
     "data": {
      "text/plain": [
       "duration_sec                        int64\n",
       "start_time                 datetime64[ns]\n",
       "end_time                   datetime64[ns]\n",
       "start_station_id                  float64\n",
       "start_station_name                 object\n",
       "start_station_latitude            float64\n",
       "start_station_longitude           float64\n",
       "end_station_id                    float64\n",
       "end_station_name                   object\n",
       "end_station_latitude              float64\n",
       "end_station_longitude             float64\n",
       "bike_id                             int64\n",
       "user_type                        category\n",
       "member_birth_year                 float64\n",
       "member_gender                      object\n",
       "bike_share_for_all_trip            object\n",
       "dtype: object"
      ]
     },
     "execution_count": 187,
     "metadata": {},
     "output_type": "execute_result"
    }
   ],
   "source": [
    "# check the updated dataframe types\n",
    "df.dtypes"
   ]
  },
  {
   "cell_type": "code",
   "execution_count": 188,
   "metadata": {},
   "outputs": [
    {
     "data": {
      "text/plain": [
       "duration_sec                  0\n",
       "start_time                    0\n",
       "end_time                      0\n",
       "start_station_id            197\n",
       "start_station_name          197\n",
       "start_station_latitude        0\n",
       "start_station_longitude       0\n",
       "end_station_id              197\n",
       "end_station_name            197\n",
       "end_station_latitude          0\n",
       "end_station_longitude         0\n",
       "bike_id                       0\n",
       "user_type                     0\n",
       "member_birth_year          8265\n",
       "member_gender                 0\n",
       "bike_share_for_all_trip       0\n",
       "dtype: int64"
      ]
     },
     "execution_count": 188,
     "metadata": {},
     "output_type": "execute_result"
    }
   ],
   "source": [
    "df.isna().sum()"
   ]
  },
  {
   "cell_type": "markdown",
   "metadata": {},
   "source": [
    "# handling missing values\n"
   ]
  },
  {
   "cell_type": "code",
   "execution_count": null,
   "metadata": {},
   "outputs": [
    {
     "name": "stderr",
     "output_type": "stream",
     "text": [
      "C:\\Users\\Yasser\\AppData\\Local\\Temp\\ipykernel_8968\\2102216839.py:7: FutureWarning: A value is trying to be set on a copy of a DataFrame or Series through chained assignment using an inplace method.\n",
      "The behavior will change in pandas 3.0. This inplace method will never work because the intermediate object on which we are setting values always behaves as a copy.\n",
      "\n",
      "For example, when doing 'df[col].method(value, inplace=True)', try using 'df.method({col: value}, inplace=True)' or df[col] = df[col].method(value) instead, to perform the operation inplace on the original object.\n",
      "\n",
      "\n",
      "  df['member_birth_year'].fillna(df['member_birth_year'].median(), inplace=True)\n",
      "C:\\Users\\Yasser\\AppData\\Local\\Temp\\ipykernel_8968\\2102216839.py:9: FutureWarning: A value is trying to be set on a copy of a DataFrame or Series through chained assignment using an inplace method.\n",
      "The behavior will change in pandas 3.0. This inplace method will never work because the intermediate object on which we are setting values always behaves as a copy.\n",
      "\n",
      "For example, when doing 'df[col].method(value, inplace=True)', try using 'df.method({col: value}, inplace=True)' or df[col] = df[col].method(value) instead, to perform the operation inplace on the original object.\n",
      "\n",
      "\n",
      "  df['member_gender'].fillna('Unknown', inplace=True)\n"
     ]
    }
   ],
   "source": [
    "\n",
    "# drop rows with missing station IDs \n",
    "df.dropna(subset=['start_station_id', 'end_station_id'], inplace=True)\n",
    "\n",
    "# fill missing birth years with the median\n",
    "df['member_birth_year'].fillna(df['member_birth_year'].median(), inplace=True)\n",
    "\n",
    "# fill missing gender with \"Unknown\"\n",
    "df['member_gender'].fillna('Unknown', inplace=True)\n"
   ]
  },
  {
   "cell_type": "code",
   "execution_count": 201,
   "metadata": {},
   "outputs": [
    {
     "data": {
      "text/plain": [
       "duration_sec               0\n",
       "start_time                 0\n",
       "end_time                   0\n",
       "start_station_id           0\n",
       "start_station_name         0\n",
       "start_station_latitude     0\n",
       "start_station_longitude    0\n",
       "end_station_id             0\n",
       "end_station_name           0\n",
       "end_station_latitude       0\n",
       "end_station_longitude      0\n",
       "bike_id                    0\n",
       "user_type                  0\n",
       "member_birth_year          0\n",
       "member_gender              0\n",
       "bike_share_for_all_trip    0\n",
       "log_duration_sec           0\n",
       "dtype: int64"
      ]
     },
     "execution_count": 201,
     "metadata": {},
     "output_type": "execute_result"
    }
   ],
   "source": [
    "df.isna().sum()"
   ]
  },
  {
   "cell_type": "code",
   "execution_count": 191,
   "metadata": {},
   "outputs": [
    {
     "data": {
      "text/plain": [
       "(183215, 16)"
      ]
     },
     "execution_count": 191,
     "metadata": {},
     "output_type": "execute_result"
    }
   ],
   "source": [
    "df.shape"
   ]
  },
  {
   "cell_type": "code",
   "execution_count": 192,
   "metadata": {},
   "outputs": [
    {
     "data": {
      "text/html": [
       "<div>\n",
       "<style scoped>\n",
       "    .dataframe tbody tr th:only-of-type {\n",
       "        vertical-align: middle;\n",
       "    }\n",
       "\n",
       "    .dataframe tbody tr th {\n",
       "        vertical-align: top;\n",
       "    }\n",
       "\n",
       "    .dataframe thead th {\n",
       "        text-align: right;\n",
       "    }\n",
       "</style>\n",
       "<table border=\"1\" class=\"dataframe\">\n",
       "  <thead>\n",
       "    <tr style=\"text-align: right;\">\n",
       "      <th></th>\n",
       "      <th>duration_sec</th>\n",
       "      <th>start_time</th>\n",
       "      <th>end_time</th>\n",
       "      <th>start_station_id</th>\n",
       "      <th>start_station_latitude</th>\n",
       "      <th>start_station_longitude</th>\n",
       "      <th>end_station_id</th>\n",
       "      <th>end_station_latitude</th>\n",
       "      <th>end_station_longitude</th>\n",
       "      <th>bike_id</th>\n",
       "      <th>member_birth_year</th>\n",
       "    </tr>\n",
       "  </thead>\n",
       "  <tbody>\n",
       "    <tr>\n",
       "      <th>count</th>\n",
       "      <td>183215.000000</td>\n",
       "      <td>183215</td>\n",
       "      <td>183215</td>\n",
       "      <td>183215.000000</td>\n",
       "      <td>183215.000000</td>\n",
       "      <td>183215.000000</td>\n",
       "      <td>183215.000000</td>\n",
       "      <td>183215.000000</td>\n",
       "      <td>183215.000000</td>\n",
       "      <td>183215.000000</td>\n",
       "      <td>183215.000000</td>\n",
       "    </tr>\n",
       "    <tr>\n",
       "      <th>mean</th>\n",
       "      <td>725.902017</td>\n",
       "      <td>2019-02-15 21:04:31.445224704</td>\n",
       "      <td>2019-02-15 21:16:37.846335744</td>\n",
       "      <td>138.590427</td>\n",
       "      <td>37.771615</td>\n",
       "      <td>-122.353104</td>\n",
       "      <td>136.249123</td>\n",
       "      <td>37.771820</td>\n",
       "      <td>-122.352689</td>\n",
       "      <td>4473.218792</td>\n",
       "      <td>1984.902213</td>\n",
       "    </tr>\n",
       "    <tr>\n",
       "      <th>min</th>\n",
       "      <td>61.000000</td>\n",
       "      <td>2019-02-01 00:00:20.636000</td>\n",
       "      <td>2019-02-01 00:04:52.058000</td>\n",
       "      <td>3.000000</td>\n",
       "      <td>37.317298</td>\n",
       "      <td>-122.453704</td>\n",
       "      <td>3.000000</td>\n",
       "      <td>37.317298</td>\n",
       "      <td>-122.453704</td>\n",
       "      <td>11.000000</td>\n",
       "      <td>1878.000000</td>\n",
       "    </tr>\n",
       "    <tr>\n",
       "      <th>25%</th>\n",
       "      <td>325.000000</td>\n",
       "      <td>2019-02-08 08:29:44.952499968</td>\n",
       "      <td>2019-02-08 08:40:10.263500032</td>\n",
       "      <td>47.000000</td>\n",
       "      <td>37.770407</td>\n",
       "      <td>-122.412408</td>\n",
       "      <td>44.000000</td>\n",
       "      <td>37.770407</td>\n",
       "      <td>-122.411726</td>\n",
       "      <td>3777.000000</td>\n",
       "      <td>1981.000000</td>\n",
       "    </tr>\n",
       "    <tr>\n",
       "      <th>50%</th>\n",
       "      <td>514.000000</td>\n",
       "      <td>2019-02-15 22:47:27.054000128</td>\n",
       "      <td>2019-02-15 23:02:10.630000128</td>\n",
       "      <td>104.000000</td>\n",
       "      <td>37.780760</td>\n",
       "      <td>-122.398285</td>\n",
       "      <td>100.000000</td>\n",
       "      <td>37.781010</td>\n",
       "      <td>-122.398279</td>\n",
       "      <td>4958.000000</td>\n",
       "      <td>1987.000000</td>\n",
       "    </tr>\n",
       "    <tr>\n",
       "      <th>75%</th>\n",
       "      <td>796.000000</td>\n",
       "      <td>2019-02-22 10:59:11.464000</td>\n",
       "      <td>2019-02-22 11:11:26.949000192</td>\n",
       "      <td>239.000000</td>\n",
       "      <td>37.797280</td>\n",
       "      <td>-122.287180</td>\n",
       "      <td>235.000000</td>\n",
       "      <td>37.797320</td>\n",
       "      <td>-122.288665</td>\n",
       "      <td>5503.000000</td>\n",
       "      <td>1992.000000</td>\n",
       "    </tr>\n",
       "    <tr>\n",
       "      <th>max</th>\n",
       "      <td>85444.000000</td>\n",
       "      <td>2019-02-28 23:59:18.548000</td>\n",
       "      <td>2019-03-01 08:01:55.975000</td>\n",
       "      <td>398.000000</td>\n",
       "      <td>37.880222</td>\n",
       "      <td>-121.874119</td>\n",
       "      <td>398.000000</td>\n",
       "      <td>37.880222</td>\n",
       "      <td>-121.874119</td>\n",
       "      <td>6645.000000</td>\n",
       "      <td>2001.000000</td>\n",
       "    </tr>\n",
       "    <tr>\n",
       "      <th>std</th>\n",
       "      <td>1795.078654</td>\n",
       "      <td>NaN</td>\n",
       "      <td>NaN</td>\n",
       "      <td>111.778864</td>\n",
       "      <td>0.098914</td>\n",
       "      <td>0.116387</td>\n",
       "      <td>111.515131</td>\n",
       "      <td>0.098819</td>\n",
       "      <td>0.115961</td>\n",
       "      <td>1665.249372</td>\n",
       "      <td>9.898425</td>\n",
       "    </tr>\n",
       "  </tbody>\n",
       "</table>\n",
       "</div>"
      ],
      "text/plain": [
       "        duration_sec                     start_time  \\\n",
       "count  183215.000000                         183215   \n",
       "mean      725.902017  2019-02-15 21:04:31.445224704   \n",
       "min        61.000000     2019-02-01 00:00:20.636000   \n",
       "25%       325.000000  2019-02-08 08:29:44.952499968   \n",
       "50%       514.000000  2019-02-15 22:47:27.054000128   \n",
       "75%       796.000000     2019-02-22 10:59:11.464000   \n",
       "max     85444.000000     2019-02-28 23:59:18.548000   \n",
       "std      1795.078654                            NaN   \n",
       "\n",
       "                            end_time  start_station_id  \\\n",
       "count                         183215     183215.000000   \n",
       "mean   2019-02-15 21:16:37.846335744        138.590427   \n",
       "min       2019-02-01 00:04:52.058000          3.000000   \n",
       "25%    2019-02-08 08:40:10.263500032         47.000000   \n",
       "50%    2019-02-15 23:02:10.630000128        104.000000   \n",
       "75%    2019-02-22 11:11:26.949000192        239.000000   \n",
       "max       2019-03-01 08:01:55.975000        398.000000   \n",
       "std                              NaN        111.778864   \n",
       "\n",
       "       start_station_latitude  start_station_longitude  end_station_id  \\\n",
       "count           183215.000000            183215.000000   183215.000000   \n",
       "mean                37.771615              -122.353104      136.249123   \n",
       "min                 37.317298              -122.453704        3.000000   \n",
       "25%                 37.770407              -122.412408       44.000000   \n",
       "50%                 37.780760              -122.398285      100.000000   \n",
       "75%                 37.797280              -122.287180      235.000000   \n",
       "max                 37.880222              -121.874119      398.000000   \n",
       "std                  0.098914                 0.116387      111.515131   \n",
       "\n",
       "       end_station_latitude  end_station_longitude        bike_id  \\\n",
       "count         183215.000000          183215.000000  183215.000000   \n",
       "mean              37.771820            -122.352689    4473.218792   \n",
       "min               37.317298            -122.453704      11.000000   \n",
       "25%               37.770407            -122.411726    3777.000000   \n",
       "50%               37.781010            -122.398279    4958.000000   \n",
       "75%               37.797320            -122.288665    5503.000000   \n",
       "max               37.880222            -121.874119    6645.000000   \n",
       "std                0.098819               0.115961    1665.249372   \n",
       "\n",
       "       member_birth_year  \n",
       "count      183215.000000  \n",
       "mean         1984.902213  \n",
       "min          1878.000000  \n",
       "25%          1981.000000  \n",
       "50%          1987.000000  \n",
       "75%          1992.000000  \n",
       "max          2001.000000  \n",
       "std             9.898425  "
      ]
     },
     "execution_count": 192,
     "metadata": {},
     "output_type": "execute_result"
    }
   ],
   "source": [
    "df.describe()"
   ]
  },
  {
   "cell_type": "markdown",
   "metadata": {},
   "source": [
    "### What is the structure of your dataset?\n",
    "\n",
    "The dataset contains 183,412 records with 16 features including:\n",
    "\n",
    "1. **duration_sec**: the duration of the trip in seconds\n",
    "\n",
    "2. **start_time**: the date and time when the trip started\n",
    "\n",
    "3. **end_time**: the date and time when the trip ended\n",
    "\n",
    "4. **start_station_id**: The unique identifier for the station where the trip began\n",
    "\n",
    "5. **start_station_name**: the name of the station where the trip began\n",
    "\n",
    "6. **start_station_latitude**: The latitude coordinate of the start station\n",
    "\n",
    "7. **start_station_longitude**: The longitude coordinate of the start station\n",
    "\n",
    "8. **end_station_id**: the unique identifier for the station where the trip ended\n",
    "\n",
    "9. **end_station_name**: The name of the station where the trip ended\n",
    "\n",
    "10. **end_station_latitude**: The latitude coordinate of the end station\n",
    "\n",
    "11. **end_station_longitude**: The longitude coordinate of the end station\n",
    "\n",
    "12. **bike_id**: The unique identifier for the bike used during the trip\n",
    "\n",
    "13. **user_type**: The type of user: \"Subscriber\" for members or \"Customer\" for casual users\n",
    "\n",
    "14. **member_birth_year**: The birth year of the user\n",
    "\n",
    "15. **member_gender**: The gender of the user\n",
    "\n",
    "16. **bike_share_for_all_trip**: Indicates whether the trip was part of the \"Bike Share for All\" program which offers discounted memberships to low income residents\n",
    "\n",
    "> Column descriptions were adapted from Zhou (n.d.), who documented the dataset in the GitHub repository Bike System Data Exploration[https://github.com/chefZau/Bike-System-Data-Exploration] ,with additional enhancements to improve clarity and detail.\n",
    "\n",
    "### What is/are the main feature(s) of interest in your dataset?\n",
    "\n",
    "The main features of interest are the trip duration, start and end stations, user type, and start time, as they provide key insights into bike usage patterns\n",
    "\n",
    "\n",
    "### What features in the dataset do you think will help support your investigation into your feature(s) of interest?\n",
    "\n",
    "Features like end time, member birth year, gender, and bike-sharing status will help support the investigation by providing context on user demographics and trip patterns\n",
    "\n"
   ]
  },
  {
   "cell_type": "markdown",
   "metadata": {},
   "source": [
    "## Univariate Exploration\n",
    "\n",
    "> In this section, investigate distributions of individual variables. If you see unusual points or outliers, take a deeper look to clean things up and prepare yourself to look at relationships between variables.\n",
    "\n",
    ">**Rubric Requirement**: Use the \"Question-Visualization-Observations\" framework  throughout the exploration. This framework involves **asking a question from the data, creating a visualization to find answers, and then recording observations after each visualisation.** \n",
    "\n",
    "> **Rubric Requirement**: This part (Univariate Exploration) should include at least one histogram, and either a bar chart of count plot.\n",
    "\n",
    ">**Rubric Requirement**: Visualizations should depict the data appropriately so that the plots are easily interpretable. You should choose an appropriate plot type, data encodings, and formatting as needed. The formatting may include setting/adding the title, labels, legend, and comments. Also, do not overplot or incorrectly plot ordinal data."
   ]
  },
  {
   "cell_type": "markdown",
   "metadata": {},
   "source": [
    "#### Trip Duration Histogram\n",
    "\n",
    "##### **1st Question:** How is the distribution of trip durations? Are there any unusual patterns?\n"
   ]
  },
  {
   "cell_type": "code",
   "execution_count": 193,
   "metadata": {},
   "outputs": [
    {
     "data": {
      "text/plain": [
       "Text(0.5, 1.0, 'Distribution of Trip Duration')"
      ]
     },
     "execution_count": 193,
     "metadata": {},
     "output_type": "execute_result"
    },
    {
     "data": {
      "image/png": "[encoded data removed]",
      "text/plain": [
       "<Figure size 640x480 with 1 Axes>"
      ]
     },
     "metadata": {},
     "output_type": "display_data"
    }
   ],
   "source": [
    "sns.histplot(df['duration_sec'], bins=50, kde=True)\n",
    "plt.xlim(0, 5000)  # limiting to 5000 sec for better visibility\n",
    "plt.xlabel('Trip Duration (seconds)')\n",
    "plt.ylabel('Count')\n",
    "plt.title('Distribution of Trip Duration')\n"
   ]
  },
  {
   "cell_type": "markdown",
   "metadata": {},
   "source": [
    "- Most trips last under 1000 seconds (~16 minutes)\n",
    "- There is a long tail, meaning some trips last much longer\n",
    "- Some extreme outliers exceed 5000 seconds (~83 minutes)\n"
   ]
  },
  {
   "cell_type": "code",
   "execution_count": 194,
   "metadata": {},
   "outputs": [
    {
     "data": {
      "image/png": "[encoded data removed]",
      "text/plain": [
       "<Figure size 1200x500 with 2 Axes>"
      ]
     },
     "metadata": {},
     "output_type": "display_data"
    }
   ],
   "source": [
    "# Check for skewness\n",
    "skewness = df['duration_sec'].skew()\n",
    "\n",
    "# Plot original distribution\n",
    "plt.figure(figsize=(12, 5))\n",
    "plt.subplot(1, 2, 1)\n",
    "sns.histplot(df['duration_sec'], bins=50, kde=True)\n",
    "plt.xlim(0, 5000)  # limiting to 5000 sec for better visibility\n",
    "plt.xlabel('Trip Duration (seconds)')\n",
    "plt.ylabel('Count')\n",
    "plt.title(f'Original Distribution of Trip Duration (Skewness: {skewness:.2f})')\n",
    "\n",
    "# If the skewness is high, apply log transformation\n",
    "if skewness > 1:\n",
    "    df['log_duration_sec'] = np.log1p(df['duration_sec'])  # log(1 + x) to handle zero values\n",
    "    log_skewness = df['log_duration_sec'].skew()\n",
    "\n",
    "    # Plot log-transformed distribution\n",
    "    plt.subplot(1, 2, 2)\n",
    "    sns.histplot(df['log_duration_sec'], bins=50, kde=True)\n",
    "    plt.xlabel('Log(Trip Duration)')\n",
    "    plt.ylabel('Count')\n",
    "    plt.title(f'Log-Transformed Trip Duration (Skewness: {log_skewness:.2f})')\n",
    "\n",
    "plt.tight_layout()\n",
    "plt.show()\n"
   ]
  },
  {
   "cell_type": "markdown",
   "metadata": {},
   "source": [
    "- Due to the high right skew, a log transformation was applied to normalize the distribution, making it closer to a bell-shaped curve.\n"
   ]
  },
  {
   "cell_type": "markdown",
   "metadata": {},
   "source": [
    "---------"
   ]
  },
  {
   "cell_type": "markdown",
   "metadata": {},
   "source": [
    "#### Member Birth Year Histogram\n",
    "\n",
    "##### **2nd Question:** What is the age distribution of bike riders? Are there unusual age patterns?\n"
   ]
  },
  {
   "cell_type": "code",
   "execution_count": 195,
   "metadata": {},
   "outputs": [
    {
     "data": {
      "text/plain": [
       "Text(0.5, 1.0, 'Distribution of Rider Birth Years')"
      ]
     },
     "execution_count": 195,
     "metadata": {},
     "output_type": "execute_result"
    },
    {
     "data": {
      "image/png": "[encoded data removed]",
      "text/plain": [
       "<Figure size 640x480 with 1 Axes>"
      ]
     },
     "metadata": {},
     "output_type": "display_data"
    }
   ],
   "source": [
    "sns.histplot(df['member_birth_year'].dropna(), bins=60, kde=True)\n",
    "plt.xlabel('Member Birth Year')\n",
    "plt.ylabel('Count')\n",
    "plt.title('Distribution of Rider Birth Years')"
   ]
  },
  {
   "cell_type": "markdown",
   "metadata": {},
   "source": [
    " - Most riders were born between **1980 and 2000**.\n",
    " - A few birth years are extreme (e.g., 1900 or earlier), i think it's a data entry error\n"
   ]
  },
  {
   "cell_type": "markdown",
   "metadata": {},
   "source": [
    "-------"
   ]
  },
  {
   "cell_type": "markdown",
   "metadata": {},
   "source": [
    "#### Bike Share for All Trip Distribution\n",
    "\n",
    "\n",
    "##### **3rd Question:** How many users are part of the Bike Share for All program?"
   ]
  },
  {
   "cell_type": "code",
   "execution_count": 196,
   "metadata": {},
   "outputs": [
    {
     "name": "stderr",
     "output_type": "stream",
     "text": [
      "C:\\Users\\Yasser\\AppData\\Local\\Temp\\ipykernel_8968\\2178827984.py:1: FutureWarning: \n",
      "\n",
      "Passing `palette` without assigning `hue` is deprecated and will be removed in v0.14.0. Assign the `x` variable to `hue` and set `legend=False` for the same effect.\n",
      "\n",
      "  sns.countplot(x=df['bike_share_for_all_trip'],\n"
     ]
    },
    {
     "data": {
      "image/png": "[encoded data removed]",
      "text/plain": [
       "<Figure size 640x480 with 1 Axes>"
      ]
     },
     "metadata": {},
     "output_type": "display_data"
    }
   ],
   "source": [
    "sns.countplot(x=df['bike_share_for_all_trip'], \n",
    "              palette=[\"#ff6961\", \"#77dd77\"],  # Muted red and muted green hex codes\n",
    "              order=[\"No\", \"Yes\"])\n",
    "plt.xlabel('Bike Share for All Trip')\n",
    "plt.ylabel('Count')\n",
    "plt.title('Bike Share for All Trip Distribution')\n",
    "plt.show()"
   ]
  },
  {
   "cell_type": "markdown",
   "metadata": {},
   "source": [
    "------"
   ]
  },
  {
   "cell_type": "markdown",
   "metadata": {},
   "source": [
    "#### User Type Count Plot\n",
    "\n",
    "\n",
    "\n",
    "##### **4th Question:** What is the proportion of Subscribers vs. Customers?"
   ]
  },
  {
   "cell_type": "code",
   "execution_count": 197,
   "metadata": {},
   "outputs": [
    {
     "data": {
      "text/plain": [
       "Text(0.5, 1.0, 'User Type Distribution')"
      ]
     },
     "execution_count": 197,
     "metadata": {},
     "output_type": "execute_result"
    },
    {
     "data": {
      "image/png": "[encoded data removed]",
      "text/plain": [
       "<Figure size 640x480 with 1 Axes>"
      ]
     },
     "metadata": {},
     "output_type": "display_data"
    }
   ],
   "source": [
    "order1 = df['user_type'].value_counts().index\n",
    "sns.countplot(x=df['user_type'], color='tab:blue',order=order1)\n",
    "plt.xlabel('User Type')\n",
    "plt.ylabel('Count')\n",
    "plt.title('User Type Distribution')\n"
   ]
  },
  {
   "cell_type": "markdown",
   "metadata": {},
   "source": [
    " - Most users are **Subscribers**, meaning they use the service regularly.\n",
    " - **Customers (occasional riders)** are far fewer in comparison."
   ]
  },
  {
   "cell_type": "markdown",
   "metadata": {},
   "source": [
    "-----"
   ]
  },
  {
   "cell_type": "markdown",
   "metadata": {},
   "source": [
    "#### Member Gender Bar Chart\n",
    "\n",
    "\n",
    "\n",
    "\n",
    "##### **5th Question:** What is the gender distribution among bike riders?"
   ]
  },
  {
   "cell_type": "code",
   "execution_count": 198,
   "metadata": {},
   "outputs": [
    {
     "name": "stderr",
     "output_type": "stream",
     "text": [
      "C:\\Users\\Yasser\\AppData\\Local\\Temp\\ipykernel_8968\\1771173177.py:3: FutureWarning: \n",
      "\n",
      "Passing `palette` without assigning `hue` is deprecated and will be removed in v0.14.0. Assign the `y` variable to `hue` and set `legend=False` for the same effect.\n",
      "\n",
      "  sns.countplot(y=df['member_gender'].dropna(), palette=\"pastel\", order=order2)\n"
     ]
    },
    {
     "data": {
      "text/plain": [
       "Text(0.5, 1.0, 'Gender Distribution of Riders')"
      ]
     },
     "execution_count": 198,
     "metadata": {},
     "output_type": "execute_result"
    },
    {
     "data": {
      "image/png": "[encoded data removed]",
      "text/plain": [
       "<Figure size 640x480 with 1 Axes>"
      ]
     },
     "metadata": {},
     "output_type": "display_data"
    }
   ],
   "source": [
    "order2 = df['member_gender'].value_counts().index\n",
    "\n",
    "sns.countplot(y=df['member_gender'].dropna(), palette=\"pastel\", order=order2)\n",
    "plt.ylabel('Member Gender')\n",
    "plt.xlabel('Count')\n",
    "plt.title('Gender Distribution of Riders')"
   ]
  },
  {
   "cell_type": "markdown",
   "metadata": {},
   "source": [
    " - Majority of riders are **Male**, followed by **Female**.\n",
    "- Some users selected \"Other\" as their gender.\n"
   ]
  },
  {
   "cell_type": "markdown",
   "metadata": {},
   "source": [
    "### Discuss the distribution(s) of your variable(s) of interest. Were there any unusual points? Did you need to perform any transformations?\n",
    "\n",
    "the trip duration distribution is highly right-skewed, with most trips lasting under 1000 seconds (~16 minutes) but some extending beyond 5000 seconds (~83 minutes). These long trips could be outliers, possibly due to unusual usage patterns or errors in trip logging. A log transformation could help visualize the data more effectively\n",
    "\n",
    "The member birth year distribution shows that most users were born between 1980 and 2000, but there are some unrealistic values, such as birth years before 1900, which are likely data entry errors. These values may need to be removed or corrected\n",
    "\n",
    "For categorical variables, the user type distribution is highly imbalanced, with far more subscribers than customers, indicating that most users are regular riders rather than occasional ones\n",
    "\n",
    "The bike share for all trips feature shows that most users do not share bikes for all trips, suggesting that bike-sharing is used primarily for individual rides rather than group use\n",
    "\n",
    "The gender distribution is also skewed, with more male riders than female riders, which might indicate a demographic trend in bike usage\n",
    "\n",
    "\n",
    "### Of the features you investigated, were there any unusual distributions? Did you perform any operations on the data to tidy, adjust, or change the form of the data? If so, why did you do this?\n",
    "\n",
    "Yes some features had unusual distributions that required attention like:\n",
    "Trip Duration: Since the distribution is highly skewed, a log transformation could be applied to normalize the data and make trends more apparent.\n",
    "\n",
    "Member Birth Year: Some values were implausibly old (before 1900), likely due to data entry errors. These would need to be cleaned or removed to avoid misleading analysis\n",
    "\n",
    "Categorical Features (User Type, Bike Share Status, Gender): These distributions were mostly expected, but the imbalance in user type (subscribers vs. customers) might require resampling in certain analyses to prevent bias.\n"
   ]
  },
  {
   "cell_type": "markdown",
   "metadata": {},
   "source": [
    "## Bivariate Exploration\n",
    "\n",
    "> In this section, investigate relationships between pairs of variables in your data. Make sure the variables that you cover here have been introduced in some fashion in the previous section (univariate exploration).\n",
    "\n",
    "> **Rubric Tip**: This part (Bivariate Exploration) should include at least one scatter plot, one box plot, and at least one clustered bar chart or heat map."
   ]
  },
  {
   "cell_type": "code",
   "execution_count": null,
   "metadata": {},
   "outputs": [],
   "source": []
  },
  {
   "cell_type": "markdown",
   "metadata": {},
   "source": [
    "### Talk about some of the relationships you observed in this part of the investigation. How did the feature(s) of interest vary with other features in the dataset?\n",
    "\n",
    "> Your answer here!\n",
    "\n",
    "### Did you observe any interesting relationships between the other features (not the main feature(s) of interest)?\n",
    "\n",
    "> Your answer here!"
   ]
  },
  {
   "cell_type": "markdown",
   "metadata": {},
   "source": [
    "## Multivariate Exploration\n",
    "\n",
    "> **Rubric Requirement**: Create plots of three or more variables to investigate your data even\n",
    "further. Make sure that your investigations are justified, and follow from\n",
    "your work in the previous sections.\n",
    "\n",
    "> **Rubric Requirement**: This part (Multivariate Exploration) should include at least one Facet Plot, and one Plot Matrix or Scatterplot with multiple encodings.\n",
    "\n",
    ">**Rubric Requirement**: Think carefully about how you encode variables. Choose appropriate color schemes, markers, or even how Facets are chosen. Also, do not overplot or incorrectly plot ordinal data."
   ]
  },
  {
   "cell_type": "code",
   "execution_count": null,
   "metadata": {},
   "outputs": [],
   "source": []
  },
  {
   "cell_type": "markdown",
   "metadata": {},
   "source": [
    "### Talk about some of the relationships you observed in this part of the investigation. Were there features that strengthened each other in terms of looking at your feature(s) of interest?\n",
    "\n",
    "> Your answer here!\n",
    "\n",
    "### Were there any interesting or surprising interactions between features?\n",
    "\n",
    "> Your answer here!"
   ]
  },
  {
   "cell_type": "markdown",
   "metadata": {},
   "source": [
    "## Conclusions\n",
    "> **Rubric Requirement**: You can write a summary of the main findings and reflect on the steps taken during the data exploration.\n",
    "\n",
    "> **Rubric Requirement**: Create a list of summary findings to make it easy to review."
   ]
  },
  {
   "cell_type": "markdown",
   "metadata": {},
   "source": [
    "### Remove all **Rubric Requirement** text \n",
    "Remove all **Rubric Requirement** text mentioned above, as well the text below, before you convert this notebook to PDF/HTML.\n",
    "\n",
    "\n",
    ">At the end of your report, make sure that you export the notebook as an html file from the `File > Download as... > HTML or PDF` menu. Make sure you keep track of where the exported file goes, so you can put it in the same folder as this notebook for project submission. Also, make sure you remove all of the quote-formatted guide notes like this one before you finish your report!\n",
    "\n"
   ]
  },
  {
   "cell_type": "code",
   "execution_count": null,
   "metadata": {},
   "outputs": [],
   "source": []
  },
  {
   "cell_type": "code",
   "execution_count": null,
   "metadata": {},
   "outputs": [],
   "source": []
  }
 ],
 "metadata": {
  "kernelspec": {
   "display_name": "notebook",
   "language": "python",
   "name": "python3"
  },
  "language_info": {
   "codemirror_mode": {
    "name": "ipython",
    "version": 3
   },
   "file_extension": ".py",
   "mimetype": "text/x-python",
   "name": "python",
   "nbconvert_exporter": "python",
   "pygments_lexer": "ipython3",
   "version": "3.11.11"
  }
 },
 "nbformat": 4,
 "nbformat_minor": 2
}
